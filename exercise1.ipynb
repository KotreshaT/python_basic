{
 "cells": [
  {
   "cell_type": "code",
   "execution_count": 1,
   "id": "fae933bc",
   "metadata": {},
   "outputs": [
    {
     "name": "stdout",
     "output_type": "stream",
     "text": [
      "enter a value2\n",
      "perimeter of a squar is  8\n"
     ]
    }
   ],
   "source": [
    "# perimeter of a squar\n",
    "a=int(input(\"enter a value\"))\n",
    "p=4*a\n",
    "print(\"perimeter of a squar is \",p)"
   ]
  },
  {
   "cell_type": "code",
   "execution_count": 2,
   "id": "388f39b7",
   "metadata": {},
   "outputs": [
    {
     "name": "stdout",
     "output_type": "stream",
     "text": [
      "enter l value2\n",
      "enter b value3\n",
      "perimeter of a rectangle is  10\n"
     ]
    }
   ],
   "source": [
    "# # perimeter of a rectangle\n",
    "l=int(input(\"enter l value\"))\n",
    "b=int(input(\"enter b value\"))\n",
    "p=2*(l+b)\n",
    "print(\"perimeter of a rectangle is \",p)"
   ]
  },
  {
   "cell_type": "code",
   "execution_count": 3,
   "id": "efd670cb",
   "metadata": {},
   "outputs": [
    {
     "name": "stdout",
     "output_type": "stream",
     "text": [
      "enter a value2\n",
      "circum ference of circle is  12.56\n"
     ]
    }
   ],
   "source": [
    "# circle\n",
    "a=int(input(\"enter a value\"))\n",
    "p=2*3.14*a\n",
    "print(\"circum ference of circle is \",p)"
   ]
  },
  {
   "cell_type": "code",
   "execution_count": 4,
   "id": "33797964",
   "metadata": {},
   "outputs": [
    {
     "name": "stdout",
     "output_type": "stream",
     "text": [
      "enter the value of a 2\n",
      "the area of squar is 4\n"
     ]
    }
   ],
   "source": [
    "# area of squar\n",
    "a=int(input(\"enter the value of a \"))\n",
    "A=a**2\n",
    "print(\"the area of squar is\", A)"
   ]
  },
  {
   "cell_type": "code",
   "execution_count": 6,
   "id": "62e94f17",
   "metadata": {},
   "outputs": [
    {
     "name": "stdout",
     "output_type": "stream",
     "text": [
      "enter l value  2\n",
      "enter b value  3\n",
      "area of a rectangle is 6 \n"
     ]
    }
   ],
   "source": [
    "# area of a rectangle\n",
    "l=int(input(\"enter l value  \"))\n",
    "b=int(input(\"enter b value  \"))\n",
    "A=l*b\n",
    "print(f\"area of a rectangle is {A} \")"
   ]
  },
  {
   "cell_type": "code",
   "execution_count": 7,
   "id": "83796015",
   "metadata": {},
   "outputs": [
    {
     "name": "stdout",
     "output_type": "stream",
     "text": [
      "enter l value  2\n",
      "enter b value  2\n",
      "area of a triangle is 2.0 \n"
     ]
    }
   ],
   "source": [
    "# area of triangle \n",
    "l=int(input(\"enter l value  \"))\n",
    "b=int(input(\"enter b value  \"))\n",
    "p=0.5*l*b\n",
    "print(f\"area of a triangle is {p} \")"
   ]
  },
  {
   "cell_type": "code",
   "execution_count": 8,
   "id": "915537e9",
   "metadata": {},
   "outputs": [
    {
     "name": "stdout",
     "output_type": "stream",
     "text": [
      "enter the length of the cube2\n",
      "surface area of cube is  24\n"
     ]
    }
   ],
   "source": [
    "# SURFACE AREA OF CUBE\n",
    "a=int(input(\"enter the length of the cube\"))\n",
    "b=6*a**2\n",
    "print(f\"surface area of cube is  {b}\")"
   ]
  },
  {
   "cell_type": "code",
   "execution_count": 9,
   "id": "afb57af1",
   "metadata": {},
   "outputs": [
    {
     "name": "stdout",
     "output_type": "stream",
     "text": [
      "enter the radius of the cylinder r=3\n",
      "enter the height of the cylinder h=3\n",
      " curved surface area of cylinder is  56.519999999999996\n"
     ]
    }
   ],
   "source": [
    "#SURFACE AREA OF CYLINDER\n",
    "a=int(input(\"enter the radius of the cylinder r=\"))\n",
    "c=int(input(\"enter the height of the cylinder h=\"))\n",
    "b=2*3.14*a*c\n",
    "print(f\" curved surface area of cylinder is  {b}\")\n"
   ]
  },
  {
   "cell_type": "code",
   "execution_count": 11,
   "id": "42bbcf20",
   "metadata": {},
   "outputs": [
    {
     "name": "stdout",
     "output_type": "stream",
     "text": [
      "enter the radius of the cylinder r=2\n",
      "enter the height of the cylinder h=3\n",
      " curved surface area of cylinder is  37.68\n"
     ]
    }
   ],
   "source": [
    "#SURFACE AREA OF CYLINDER\n",
    "a=int(input(\"enter the radius of the cylinder r=\"))\n",
    "c=int(input(\"enter the height of the cylinder h=\"))\n",
    "b=2*3.14*a*c\n",
    "print(f\" curved surface area of cylinder is  {b}\")"
   ]
  },
  {
   "cell_type": "code",
   "execution_count": 12,
   "id": "22076d1e",
   "metadata": {},
   "outputs": [
    {
     "name": "stdout",
     "output_type": "stream",
     "text": [
      "enter the redius of the sphere r=3\n",
      "surface area of sphere is  113.03999999999999\n"
     ]
    }
   ],
   "source": [
    "# SURFACE AREA OF SPHERE\n",
    "a=int(input(\"enter the redius of the sphere r=\"))\n",
    "b=4*3.14*a*a\n",
    "print(f\"surface area of sphere is  {b}\")"
   ]
  },
  {
   "cell_type": "code",
   "execution_count": 13,
   "id": "0ef2cdf4",
   "metadata": {},
   "outputs": [
    {
     "name": "stdout",
     "output_type": "stream",
     "text": [
      "enter the radius of the cylinder r=3\n",
      "enter the height of the cylinder h=3\n",
      " volume of cylinder is  84.78\n"
     ]
    }
   ],
   "source": [
    "#volume OF CYLINDER\n",
    "a=int(input(\"enter the radius of the cylinder r=\"))\n",
    "c=int(input(\"enter the height of the cylinder h=\"))\n",
    "b=3.14*a*a*c\n",
    "print(f\" volume of cylinder is  {b}\")\n"
   ]
  },
  {
   "cell_type": "code",
   "execution_count": 14,
   "id": "fddadb02",
   "metadata": {},
   "outputs": [
    {
     "name": "stdout",
     "output_type": "stream",
     "text": [
      "enter the radius of the cone r=2\n",
      "enter the height of the cone h=2\n",
      " volume of cone  is  8.2896\n"
     ]
    }
   ],
   "source": [
    "#VOLUME OF CONE \n",
    "a=int(input(\"enter the radius of the cone r=\"))\n",
    "c=int(input(\"enter the height of the cone h=\"))\n",
    "b=1.0362*a*a*c\n",
    "print(f\" volume of cone  is  {b}\")\n"
   ]
  },
  {
   "cell_type": "code",
   "execution_count": 15,
   "id": "9b132752",
   "metadata": {},
   "outputs": [
    {
     "name": "stdout",
     "output_type": "stream",
     "text": [
      "enter the redius of the sphere r=3\n",
      "volume of sphere is  112.75740000000002\n"
     ]
    }
   ],
   "source": [
    "# VOLUME OF SPHERE\n",
    "a=int(input(\"enter the redius of the sphere r=\"))\n",
    "b=1.33*3.14*a**3\n",
    "print(f\"volume of sphere is  {b}\")"
   ]
  },
  {
   "cell_type": "code",
   "execution_count": 4,
   "id": "9fd09c18",
   "metadata": {},
   "outputs": [
    {
     "name": "stdout",
     "output_type": "stream",
     "text": [
      "enter a value  2\n",
      "enter b value  2\n",
      "result of pytharous is  2.8284271247461903\n"
     ]
    }
   ],
   "source": [
    "# pytharous theorem\n",
    "\n",
    "a=float(input(\"enter a value  \"))\n",
    "b=float(input(\"enter b value  \"))\n",
    "from math import *\n",
    "c=sqrt(a**2+b**2)\n",
    "\n",
    "print(\"result of pytharous is \",c)\n",
    "\n"
   ]
  },
  {
   "cell_type": "code",
   "execution_count": 18,
   "id": "bea553e8",
   "metadata": {},
   "outputs": [
    {
     "name": "stdout",
     "output_type": "stream",
     "text": [
      "enter a value  3\n",
      "enter b value  3\n",
      "enter c value  3\n",
      "enter d value  3\n",
      "distance 0.0\n"
     ]
    }
   ],
   "source": [
    "# distence formula\n",
    "import math\n",
    "a=int(input(\"enter a value  \"))   # x1\n",
    "b=int(input(\"enter b value  \"))   #x2\n",
    "c=int(input(\"enter c value  \"))   #y1\n",
    "d=int(input(\"enter d value  \"))   #y2\n",
    "e=(b-a)**2+(d-c)**2\n",
    "p=math.sqrt(e)\n",
    "print(f\"distance {p}\")"
   ]
  },
  {
   "cell_type": "code",
   "execution_count": 28,
   "id": "46e13ded",
   "metadata": {},
   "outputs": [
    {
     "name": "stdout",
     "output_type": "stream",
     "text": [
      "enter a value  6\n",
      "enter b value  1\n",
      "enter c value  3\n",
      "enter d value  5\n",
      "slope of a line  -0.4\n"
     ]
    }
   ],
   "source": [
    "# slop of a line \n",
    "import math\n",
    "a=int(input(\"enter a value  \"))   # x1\n",
    "b=int(input(\"enter b value  \"))   #x2\n",
    "c=int(input(\"enter c value  \"))   #y1\n",
    "d=int(input(\"enter d value  \"))   #y2\n",
    "p= (d-c)/(b-a)\n",
    "print(f\"slope of a line  {p}\")"
   ]
  },
  {
   "cell_type": "code",
   "execution_count": 20,
   "id": "c76338f0",
   "metadata": {},
   "outputs": [
    {
     "name": "stdout",
     "output_type": "stream",
     "text": [
      "enter a value  2\n",
      "enter b value  3\n",
      "enter c value  5\n",
      "enter d value  6\n",
      "result is (2.5, 5.5)\n"
     ]
    }
   ],
   "source": [
    "# mid point formula \n",
    "import math\n",
    "a=int(input(\"enter a value  \"))   # x1\n",
    "b=int(input(\"enter b value  \"))   #x2\n",
    "c=int(input(\"enter c value  \"))   #y1\n",
    "d=int(input(\"enter d value  \"))   #y2\n",
    "p=(a+b)/2,(c+d)/2\n",
    "print(f\"result is {p}\")"
   ]
  },
  {
   "cell_type": "code",
   "execution_count": 21,
   "id": "25de4c4f",
   "metadata": {},
   "outputs": [
    {
     "name": "stdout",
     "output_type": "stream",
     "text": [
      "enter the number of units  3\n",
      "enter the price per unit  25\n",
      "total cost 75\n"
     ]
    }
   ],
   "source": [
    "#total cost calclation \n",
    "a=int(input(\"enter the number of units  \"))\n",
    "b=int(input(\"enter the price per unit  \"))\n",
    "totalcost=a*b\n",
    "p=totalcost\n",
    "print(f\"total cost {p}\")\n"
   ]
  },
  {
   "cell_type": "code",
   "execution_count": 23,
   "id": "20ab7f37",
   "metadata": {},
   "outputs": [
    {
     "name": "stdout",
     "output_type": "stream",
     "text": [
      "enter the a value  2\n",
      "enter the m value  2\n",
      "enter the n value  1\n",
      " result is 8\n"
     ]
    }
   ],
   "source": [
    "#laws of exponentials\n",
    "a=int(input(\"enter the a value  \"))\n",
    "m=int(input(\"enter the m value  \"))\n",
    "n=int(input(\"enter the n value  \"))\n",
    "e=(a**m)*(a**n) \n",
    "e=a**(m+n)\n",
    "p=e\n",
    "print(f\" result is {p}\")\n"
   ]
  },
  {
   "cell_type": "code",
   "execution_count": 24,
   "id": "fb3e80b4",
   "metadata": {},
   "outputs": [
    {
     "name": "stdout",
     "output_type": "stream",
     "text": [
      "enter the value of a  3\n",
      "exponential value of a is 1.7320508075688772\n"
     ]
    }
   ],
   "source": [
    "# fractional exponents\n",
    "import math\n",
    "a=float(input(\"enter the value of a  \"))\n",
    "p=math.sqrt(a)\n",
    "print(\"exponential value of a is\"  ,p)"
   ]
  },
  {
   "cell_type": "code",
   "execution_count": null,
   "id": "13ab13c0",
   "metadata": {},
   "outputs": [],
   "source": []
  },
  {
   "cell_type": "code",
   "execution_count": 25,
   "id": "bf70d6c0",
   "metadata": {},
   "outputs": [
    {
     "name": "stdout",
     "output_type": "stream",
     "text": [
      "enter the value of opposide 2\n",
      "enter the value of hypotenous 3\n",
      "sin value in radian mode is =0.618369803069737 \n",
      " sin value in degree maode is =35.44795049444352\n"
     ]
    },
    {
     "data": {
      "text/plain": [
       "(0.618369803069737, 35.44795049444352)"
      ]
     },
     "execution_count": 25,
     "metadata": {},
     "output_type": "execute_result"
    }
   ],
   "source": [
    "#sine function \n",
    "import math\n",
    "a=int(input(\"enter the value of opposide \"))\n",
    "b=int(input(\"enter the value of hypotenous \"))\n",
    "c=a/b\n",
    "d=math.sin(c)\n",
    "e=(180/3.14)*(d)\n",
    "print(f\"sin value in radian mode is ={d} \\n sin value in degree maode is ={e}\")\n",
    "d,e"
   ]
  },
  {
   "cell_type": "code",
   "execution_count": 26,
   "id": "e9e036ea",
   "metadata": {},
   "outputs": [
    {
     "name": "stdout",
     "output_type": "stream",
     "text": [
      "enter the value of adjacent 2\n",
      "enter the value of hypotenous 3\n",
      "cos value in radian mode is =0.785887260776948 \n",
      " cos value in degree maode is =45.05086208275498\n"
     ]
    }
   ],
   "source": [
    "#cos function \n",
    "import math\n",
    "a=int(input(\"enter the value of adjacent \"))\n",
    "b=int(input(\"enter the value of hypotenous \"))\n",
    "c=a/b\n",
    "d=math.cos(c)\n",
    "e=(180/3.14)*(d)\n",
    "print(f\"cos value in radian mode is ={d} \\n cos value in degree maode is ={e}\")\n"
   ]
  },
  {
   "cell_type": "code",
   "execution_count": 27,
   "id": "17ac0c39",
   "metadata": {},
   "outputs": [
    {
     "name": "stdout",
     "output_type": "stream",
     "text": [
      "enter the value of opposide 2\n",
      "enter the value of adjacent 3\n",
      "tan value in radian mode is =0.7868428894729773 \n",
      " tan value in degree maode is =45.10564334558468\n"
     ]
    }
   ],
   "source": [
    "#tan function \n",
    "import math\n",
    "a=int(input(\"enter the value of opposide \"))\n",
    "b=int(input(\"enter the value of adjacent \"))\n",
    "c=a/b\n",
    "d=math.tan(c)\n",
    "e=(180/3.14)*(d)\n",
    "print(f\"tan value in radian mode is ={d} \\n tan value in degree maode is ={e}\")\n"
   ]
  },
  {
   "cell_type": "code",
   "execution_count": 1,
   "id": "065bdc88",
   "metadata": {},
   "outputs": [
    {
     "name": "stdout",
     "output_type": "stream",
     "text": [
      "enter value a:2\n",
      "enter value b:3\n",
      "enter value c:2\n",
      "ROOTS ARE REAL AND IMAG\n"
     ]
    }
   ],
   "source": [
    "#quadratic equation\n",
    "import math\n",
    "\n",
    "a=int(input(\"enter value a:\"))\n",
    "b=int(input(\"enter value b:\"))\n",
    "c=int(input(\"enter value c:\"))\n",
    "\n",
    "if(a==0):\n",
    "    print(\"quadratic root are not posssible\")\n",
    "else:\n",
    "    d=b*b-4*a*c\n",
    "    \n",
    "    if(d==0):\n",
    "        x1=(-b+math.sqrt(d))/(2*a)\n",
    "        x2=(-b-math.sqrt(d))/(2*a)\n",
    "        print(\"ROOTS ARE REAL AND EQUAL\")\n",
    "        print(x1, x2)\n",
    "        \n",
    "\n",
    "       \n",
    "    elif(d>0):\n",
    "        x1=(-b+math.sqrt(d))/(2*a)\n",
    "        x2=(-b-math.sqrt(d))/(2*a)\n",
    "        print(\"ROOTS ARE REAL AND UNEQUAL\")\n",
    "        print(x1, x2)\n",
    "\n",
    "\n",
    "       \n",
    "    elif(d<0):\n",
    "        print(\"ROOTS ARE REAL AND IMAG\")\n",
    "        \n",
    "    else:\n",
    "        pass"
   ]
  },
  {
   "cell_type": "code",
   "execution_count": 2,
   "id": "badc5090",
   "metadata": {},
   "outputs": [
    {
     "name": "stdout",
     "output_type": "stream",
     "text": [
      "enter the value of b1:5\n",
      "enter the value of b2:3\n",
      "enter the value of h:3\n",
      "area of trapezoid is: 12.0\n"
     ]
    }
   ],
   "source": [
    "#area of a trapezoid\n",
    "b1 = int(input(\"enter the value of b1:\"))\n",
    "b1 = b1\n",
    "b2 = int(input(\"enter the value of b2:\"))\n",
    "b2=b2\n",
    "h = int(input(\"enter the value of h:\"))\n",
    "h=h\n",
    "A=((b1+b2)*h)/(2)\n",
    "print(\"area of trapezoid is:\",A)"
   ]
  },
  {
   "cell_type": "code",
   "execution_count": null,
   "id": "c18d1aeb",
   "metadata": {},
   "outputs": [],
   "source": []
  }
 ],
 "metadata": {
  "kernelspec": {
   "display_name": "Python 3 (ipykernel)",
   "language": "python",
   "name": "python3"
  },
  "language_info": {
   "codemirror_mode": {
    "name": "ipython",
    "version": 3
   },
   "file_extension": ".py",
   "mimetype": "text/x-python",
   "name": "python",
   "nbconvert_exporter": "python",
   "pygments_lexer": "ipython3",
   "version": "3.9.13"
  }
 },
 "nbformat": 4,
 "nbformat_minor": 5
}
